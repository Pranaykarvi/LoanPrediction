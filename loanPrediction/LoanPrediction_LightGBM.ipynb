{
  "cells": [
    {
      "cell_type": "code",
      "execution_count": 20,
      "metadata": {
        "id": "bnMbSbhvWGeO"
      },
      "outputs": [],
      "source": [
        "import numpy as np\n",
        "import pandas as pd\n",
        "from sklearn.preprocessing import StandardScaler\n",
        "from sklearn.model_selection import train_test_split\n",
        "from sklearn import svm\n",
        "from sklearn.metrics import accuracy_score\n",
        "from sklearn.svm import SVC"
      ]
    },
    {
      "cell_type": "code",
      "execution_count": 21,
      "metadata": {
        "id": "NhDoM1PeYdPP"
      },
      "outputs": [],
      "source": [
        "loanData=pd.read_csv(r\"D:\\target\\ml\\loanPrediction\\playground-series-s4e10\\train.csv\")"
      ]
    },
    {
      "cell_type": "code",
      "execution_count": 22,
      "metadata": {
        "colab": {
          "base_uri": "https://localhost:8080/",
          "height": 226
        },
        "id": "smVuG7O_Yk_R",
        "outputId": "68579977-3605-453c-a832-4ecba0b4b9d1"
      },
      "outputs": [
        {
          "data": {
            "text/html": [
              "<div>\n",
              "<style scoped>\n",
              "    .dataframe tbody tr th:only-of-type {\n",
              "        vertical-align: middle;\n",
              "    }\n",
              "\n",
              "    .dataframe tbody tr th {\n",
              "        vertical-align: top;\n",
              "    }\n",
              "\n",
              "    .dataframe thead th {\n",
              "        text-align: right;\n",
              "    }\n",
              "</style>\n",
              "<table border=\"1\" class=\"dataframe\">\n",
              "  <thead>\n",
              "    <tr style=\"text-align: right;\">\n",
              "      <th></th>\n",
              "      <th>id</th>\n",
              "      <th>person_age</th>\n",
              "      <th>person_income</th>\n",
              "      <th>person_home_ownership</th>\n",
              "      <th>person_emp_length</th>\n",
              "      <th>loan_intent</th>\n",
              "      <th>loan_grade</th>\n",
              "      <th>loan_amnt</th>\n",
              "      <th>loan_int_rate</th>\n",
              "      <th>loan_percent_income</th>\n",
              "      <th>cb_person_default_on_file</th>\n",
              "      <th>cb_person_cred_hist_length</th>\n",
              "      <th>loan_status</th>\n",
              "    </tr>\n",
              "  </thead>\n",
              "  <tbody>\n",
              "    <tr>\n",
              "      <th>0</th>\n",
              "      <td>0</td>\n",
              "      <td>37</td>\n",
              "      <td>35000</td>\n",
              "      <td>RENT</td>\n",
              "      <td>0.0</td>\n",
              "      <td>EDUCATION</td>\n",
              "      <td>B</td>\n",
              "      <td>6000</td>\n",
              "      <td>11.49</td>\n",
              "      <td>0.17</td>\n",
              "      <td>N</td>\n",
              "      <td>14</td>\n",
              "      <td>0</td>\n",
              "    </tr>\n",
              "    <tr>\n",
              "      <th>1</th>\n",
              "      <td>1</td>\n",
              "      <td>22</td>\n",
              "      <td>56000</td>\n",
              "      <td>OWN</td>\n",
              "      <td>6.0</td>\n",
              "      <td>MEDICAL</td>\n",
              "      <td>C</td>\n",
              "      <td>4000</td>\n",
              "      <td>13.35</td>\n",
              "      <td>0.07</td>\n",
              "      <td>N</td>\n",
              "      <td>2</td>\n",
              "      <td>0</td>\n",
              "    </tr>\n",
              "    <tr>\n",
              "      <th>2</th>\n",
              "      <td>2</td>\n",
              "      <td>29</td>\n",
              "      <td>28800</td>\n",
              "      <td>OWN</td>\n",
              "      <td>8.0</td>\n",
              "      <td>PERSONAL</td>\n",
              "      <td>A</td>\n",
              "      <td>6000</td>\n",
              "      <td>8.90</td>\n",
              "      <td>0.21</td>\n",
              "      <td>N</td>\n",
              "      <td>10</td>\n",
              "      <td>0</td>\n",
              "    </tr>\n",
              "    <tr>\n",
              "      <th>3</th>\n",
              "      <td>3</td>\n",
              "      <td>30</td>\n",
              "      <td>70000</td>\n",
              "      <td>RENT</td>\n",
              "      <td>14.0</td>\n",
              "      <td>VENTURE</td>\n",
              "      <td>B</td>\n",
              "      <td>12000</td>\n",
              "      <td>11.11</td>\n",
              "      <td>0.17</td>\n",
              "      <td>N</td>\n",
              "      <td>5</td>\n",
              "      <td>0</td>\n",
              "    </tr>\n",
              "    <tr>\n",
              "      <th>4</th>\n",
              "      <td>4</td>\n",
              "      <td>22</td>\n",
              "      <td>60000</td>\n",
              "      <td>RENT</td>\n",
              "      <td>2.0</td>\n",
              "      <td>MEDICAL</td>\n",
              "      <td>A</td>\n",
              "      <td>6000</td>\n",
              "      <td>6.92</td>\n",
              "      <td>0.10</td>\n",
              "      <td>N</td>\n",
              "      <td>3</td>\n",
              "      <td>0</td>\n",
              "    </tr>\n",
              "  </tbody>\n",
              "</table>\n",
              "</div>"
            ],
            "text/plain": [
              "   id  person_age  person_income person_home_ownership  person_emp_length  \\\n",
              "0   0          37          35000                  RENT                0.0   \n",
              "1   1          22          56000                   OWN                6.0   \n",
              "2   2          29          28800                   OWN                8.0   \n",
              "3   3          30          70000                  RENT               14.0   \n",
              "4   4          22          60000                  RENT                2.0   \n",
              "\n",
              "  loan_intent loan_grade  loan_amnt  loan_int_rate  loan_percent_income  \\\n",
              "0   EDUCATION          B       6000          11.49                 0.17   \n",
              "1     MEDICAL          C       4000          13.35                 0.07   \n",
              "2    PERSONAL          A       6000           8.90                 0.21   \n",
              "3     VENTURE          B      12000          11.11                 0.17   \n",
              "4     MEDICAL          A       6000           6.92                 0.10   \n",
              "\n",
              "  cb_person_default_on_file  cb_person_cred_hist_length  loan_status  \n",
              "0                         N                          14            0  \n",
              "1                         N                           2            0  \n",
              "2                         N                          10            0  \n",
              "3                         N                           5            0  \n",
              "4                         N                           3            0  "
            ]
          },
          "execution_count": 22,
          "metadata": {},
          "output_type": "execute_result"
        }
      ],
      "source": [
        "loanData.head()"
      ]
    },
    {
      "cell_type": "code",
      "execution_count": 23,
      "metadata": {
        "colab": {
          "base_uri": "https://localhost:8080/"
        },
        "id": "8KcrveN6Yw3P",
        "outputId": "df4bf7f8-ffea-4b9e-a623-ebdfed77bf4e"
      },
      "outputs": [
        {
          "data": {
            "text/plain": [
              "(58645, 13)"
            ]
          },
          "execution_count": 23,
          "metadata": {},
          "output_type": "execute_result"
        }
      ],
      "source": [
        "loanData.shape\n"
      ]
    },
    {
      "cell_type": "code",
      "execution_count": 24,
      "metadata": {
        "colab": {
          "base_uri": "https://localhost:8080/",
          "height": 320
        },
        "id": "5kyCjjNyZpFJ",
        "outputId": "0822e0a4-6ada-442f-8309-9a349f50410f"
      },
      "outputs": [
        {
          "data": {
            "text/html": [
              "<div>\n",
              "<style scoped>\n",
              "    .dataframe tbody tr th:only-of-type {\n",
              "        vertical-align: middle;\n",
              "    }\n",
              "\n",
              "    .dataframe tbody tr th {\n",
              "        vertical-align: top;\n",
              "    }\n",
              "\n",
              "    .dataframe thead th {\n",
              "        text-align: right;\n",
              "    }\n",
              "</style>\n",
              "<table border=\"1\" class=\"dataframe\">\n",
              "  <thead>\n",
              "    <tr style=\"text-align: right;\">\n",
              "      <th></th>\n",
              "      <th>id</th>\n",
              "      <th>person_age</th>\n",
              "      <th>person_income</th>\n",
              "      <th>person_emp_length</th>\n",
              "      <th>loan_amnt</th>\n",
              "      <th>loan_int_rate</th>\n",
              "      <th>loan_percent_income</th>\n",
              "      <th>cb_person_cred_hist_length</th>\n",
              "      <th>loan_status</th>\n",
              "    </tr>\n",
              "  </thead>\n",
              "  <tbody>\n",
              "    <tr>\n",
              "      <th>count</th>\n",
              "      <td>58645.000000</td>\n",
              "      <td>58645.000000</td>\n",
              "      <td>5.864500e+04</td>\n",
              "      <td>58645.000000</td>\n",
              "      <td>58645.000000</td>\n",
              "      <td>58645.000000</td>\n",
              "      <td>58645.000000</td>\n",
              "      <td>58645.000000</td>\n",
              "      <td>58645.000000</td>\n",
              "    </tr>\n",
              "    <tr>\n",
              "      <th>mean</th>\n",
              "      <td>29322.000000</td>\n",
              "      <td>27.550857</td>\n",
              "      <td>6.404617e+04</td>\n",
              "      <td>4.701015</td>\n",
              "      <td>9217.556518</td>\n",
              "      <td>10.677874</td>\n",
              "      <td>0.159238</td>\n",
              "      <td>5.813556</td>\n",
              "      <td>0.142382</td>\n",
              "    </tr>\n",
              "    <tr>\n",
              "      <th>std</th>\n",
              "      <td>16929.497605</td>\n",
              "      <td>6.033216</td>\n",
              "      <td>3.793111e+04</td>\n",
              "      <td>3.959784</td>\n",
              "      <td>5563.807384</td>\n",
              "      <td>3.034697</td>\n",
              "      <td>0.091692</td>\n",
              "      <td>4.029196</td>\n",
              "      <td>0.349445</td>\n",
              "    </tr>\n",
              "    <tr>\n",
              "      <th>min</th>\n",
              "      <td>0.000000</td>\n",
              "      <td>20.000000</td>\n",
              "      <td>4.200000e+03</td>\n",
              "      <td>0.000000</td>\n",
              "      <td>500.000000</td>\n",
              "      <td>5.420000</td>\n",
              "      <td>0.000000</td>\n",
              "      <td>2.000000</td>\n",
              "      <td>0.000000</td>\n",
              "    </tr>\n",
              "    <tr>\n",
              "      <th>25%</th>\n",
              "      <td>14661.000000</td>\n",
              "      <td>23.000000</td>\n",
              "      <td>4.200000e+04</td>\n",
              "      <td>2.000000</td>\n",
              "      <td>5000.000000</td>\n",
              "      <td>7.880000</td>\n",
              "      <td>0.090000</td>\n",
              "      <td>3.000000</td>\n",
              "      <td>0.000000</td>\n",
              "    </tr>\n",
              "    <tr>\n",
              "      <th>50%</th>\n",
              "      <td>29322.000000</td>\n",
              "      <td>26.000000</td>\n",
              "      <td>5.800000e+04</td>\n",
              "      <td>4.000000</td>\n",
              "      <td>8000.000000</td>\n",
              "      <td>10.750000</td>\n",
              "      <td>0.140000</td>\n",
              "      <td>4.000000</td>\n",
              "      <td>0.000000</td>\n",
              "    </tr>\n",
              "    <tr>\n",
              "      <th>75%</th>\n",
              "      <td>43983.000000</td>\n",
              "      <td>30.000000</td>\n",
              "      <td>7.560000e+04</td>\n",
              "      <td>7.000000</td>\n",
              "      <td>12000.000000</td>\n",
              "      <td>12.990000</td>\n",
              "      <td>0.210000</td>\n",
              "      <td>8.000000</td>\n",
              "      <td>0.000000</td>\n",
              "    </tr>\n",
              "    <tr>\n",
              "      <th>max</th>\n",
              "      <td>58644.000000</td>\n",
              "      <td>123.000000</td>\n",
              "      <td>1.900000e+06</td>\n",
              "      <td>123.000000</td>\n",
              "      <td>35000.000000</td>\n",
              "      <td>23.220000</td>\n",
              "      <td>0.830000</td>\n",
              "      <td>30.000000</td>\n",
              "      <td>1.000000</td>\n",
              "    </tr>\n",
              "  </tbody>\n",
              "</table>\n",
              "</div>"
            ],
            "text/plain": [
              "                 id    person_age  person_income  person_emp_length  \\\n",
              "count  58645.000000  58645.000000   5.864500e+04       58645.000000   \n",
              "mean   29322.000000     27.550857   6.404617e+04           4.701015   \n",
              "std    16929.497605      6.033216   3.793111e+04           3.959784   \n",
              "min        0.000000     20.000000   4.200000e+03           0.000000   \n",
              "25%    14661.000000     23.000000   4.200000e+04           2.000000   \n",
              "50%    29322.000000     26.000000   5.800000e+04           4.000000   \n",
              "75%    43983.000000     30.000000   7.560000e+04           7.000000   \n",
              "max    58644.000000    123.000000   1.900000e+06         123.000000   \n",
              "\n",
              "          loan_amnt  loan_int_rate  loan_percent_income  \\\n",
              "count  58645.000000   58645.000000         58645.000000   \n",
              "mean    9217.556518      10.677874             0.159238   \n",
              "std     5563.807384       3.034697             0.091692   \n",
              "min      500.000000       5.420000             0.000000   \n",
              "25%     5000.000000       7.880000             0.090000   \n",
              "50%     8000.000000      10.750000             0.140000   \n",
              "75%    12000.000000      12.990000             0.210000   \n",
              "max    35000.000000      23.220000             0.830000   \n",
              "\n",
              "       cb_person_cred_hist_length   loan_status  \n",
              "count                58645.000000  58645.000000  \n",
              "mean                     5.813556      0.142382  \n",
              "std                      4.029196      0.349445  \n",
              "min                      2.000000      0.000000  \n",
              "25%                      3.000000      0.000000  \n",
              "50%                      4.000000      0.000000  \n",
              "75%                      8.000000      0.000000  \n",
              "max                     30.000000      1.000000  "
            ]
          },
          "execution_count": 24,
          "metadata": {},
          "output_type": "execute_result"
        }
      ],
      "source": [
        "loanData.describe()"
      ]
    },
    {
      "cell_type": "code",
      "execution_count": 25,
      "metadata": {
        "colab": {
          "base_uri": "https://localhost:8080/",
          "height": 178
        },
        "id": "zasMj1DRacUt",
        "outputId": "c3389b34-a4b1-4341-96b9-db33b4898cca"
      },
      "outputs": [
        {
          "data": {
            "text/plain": [
              "loan_status\n",
              "0    50295\n",
              "1     8350\n",
              "Name: count, dtype: int64"
            ]
          },
          "execution_count": 25,
          "metadata": {},
          "output_type": "execute_result"
        }
      ],
      "source": [
        "loanData['loan_status'].value_counts()"
      ]
    },
    {
      "cell_type": "code",
      "execution_count": 26,
      "metadata": {
        "colab": {
          "base_uri": "https://localhost:8080/",
          "height": 241
        },
        "id": "5Rjb5gbbmDGL",
        "outputId": "f98b7869-bfc0-4533-8454-fb1a6b953c4b"
      },
      "outputs": [
        {
          "name": "stderr",
          "output_type": "stream",
          "text": [
            "C:\\Users\\Asus\\AppData\\Local\\Temp\\ipykernel_12484\\1093825101.py:7: FutureWarning: Downcasting behavior in `replace` is deprecated and will be removed in a future version. To retain the old behavior, explicitly call `result.infer_objects(copy=False)`. To opt-in to the future behavior, set `pd.set_option('future.no_silent_downcasting', True)`\n",
            "  loanData['person_home_ownership']=loanData['person_home_ownership'].replace(house_num)\n"
          ]
        },
        {
          "data": {
            "text/plain": [
              "0    0\n",
              "1    1\n",
              "2    1\n",
              "3    0\n",
              "4    0\n",
              "Name: person_home_ownership, dtype: int64"
            ]
          },
          "execution_count": 26,
          "metadata": {},
          "output_type": "execute_result"
        }
      ],
      "source": [
        "house_num={\n",
        "    'RENT':0,\n",
        "    'OWN':1,\n",
        "    'MORTGAGE':2,\n",
        "    'OTHER':3\n",
        "}\n",
        "loanData['person_home_ownership']=loanData['person_home_ownership'].replace(house_num)\n",
        "loanData['person_home_ownership'].head()"
      ]
    },
    {
      "cell_type": "code",
      "execution_count": 27,
      "metadata": {
        "colab": {
          "base_uri": "https://localhost:8080/",
          "height": 295
        },
        "id": "xFXT08GtnChY",
        "outputId": "def92532-5cc0-40ea-8d49-1a2e0bf2f264"
      },
      "outputs": [
        {
          "name": "stderr",
          "output_type": "stream",
          "text": [
            "C:\\Users\\Asus\\AppData\\Local\\Temp\\ipykernel_12484\\1465275522.py:10: FutureWarning: Downcasting behavior in `replace` is deprecated and will be removed in a future version. To retain the old behavior, explicitly call `result.infer_objects(copy=False)`. To opt-in to the future behavior, set `pd.set_option('future.no_silent_downcasting', True)`\n",
            "  loanData['loan_intent']=loanData['loan_intent'].replace(loan_intent_num)\n"
          ]
        },
        {
          "data": {
            "text/plain": [
              "0    2\n",
              "1    3\n",
              "2    1\n",
              "3    4\n",
              "4    3\n",
              "Name: loan_intent, dtype: int64"
            ]
          },
          "execution_count": 27,
          "metadata": {},
          "output_type": "execute_result"
        }
      ],
      "source": [
        "loan_intent_num={\n",
        "    'DEBTCONSOLIDATION':0,\n",
        "    'PERSONAL':1,\n",
        "    'EDUCATION':2,\n",
        "    'MEDICAL':3,\n",
        "    'VENTURE':4,\n",
        "    'HOMEIMPROVEMENT':5,\n",
        "\n",
        "}\n",
        "loanData['loan_intent']=loanData['loan_intent'].replace(loan_intent_num)\n",
        "loanData['loan_intent'].head()"
      ]
    },
    {
      "cell_type": "code",
      "execution_count": 28,
      "metadata": {
        "colab": {
          "base_uri": "https://localhost:8080/",
          "height": 295
        },
        "id": "pYzLWbEGomp5",
        "outputId": "03f1f806-5020-4db0-c290-f19bc2c74675"
      },
      "outputs": [
        {
          "name": "stderr",
          "output_type": "stream",
          "text": [
            "C:\\Users\\Asus\\AppData\\Local\\Temp\\ipykernel_12484\\1511410089.py:12: FutureWarning: Downcasting behavior in `replace` is deprecated and will be removed in a future version. To retain the old behavior, explicitly call `result.infer_objects(copy=False)`. To opt-in to the future behavior, set `pd.set_option('future.no_silent_downcasting', True)`\n",
            "  loanData['loan_grade']=loanData['loan_grade'].replace(loan_grade_num)\n"
          ]
        },
        {
          "data": {
            "text/plain": [
              "0    1\n",
              "1    2\n",
              "2    0\n",
              "3    1\n",
              "4    0\n",
              "Name: loan_grade, dtype: int64"
            ]
          },
          "execution_count": 28,
          "metadata": {},
          "output_type": "execute_result"
        }
      ],
      "source": [
        "loan_grade_num={\n",
        "    'A':0,\n",
        "    'B':1,\n",
        "    'C':2,\n",
        "    'D':3,\n",
        "    'E':4,\n",
        "    'F':5,\n",
        "    'G':6,\n",
        "\n",
        "\n",
        "}\n",
        "loanData['loan_grade']=loanData['loan_grade'].replace(loan_grade_num)\n",
        "loanData['loan_grade'].head()"
      ]
    },
    {
      "cell_type": "code",
      "execution_count": 29,
      "metadata": {
        "colab": {
          "base_uri": "https://localhost:8080/",
          "height": 295
        },
        "id": "1RumEsZppFVo",
        "outputId": "22a60699-c7b8-40c1-973d-f439140ebbe9"
      },
      "outputs": [
        {
          "name": "stderr",
          "output_type": "stream",
          "text": [
            "C:\\Users\\Asus\\AppData\\Local\\Temp\\ipykernel_12484\\1567296823.py:7: FutureWarning: Downcasting behavior in `replace` is deprecated and will be removed in a future version. To retain the old behavior, explicitly call `result.infer_objects(copy=False)`. To opt-in to the future behavior, set `pd.set_option('future.no_silent_downcasting', True)`\n",
            "  loanData['cb_person_default_on_file']=loanData['cb_person_default_on_file'].replace(cb_person_default_on_file_num)\n"
          ]
        },
        {
          "data": {
            "text/plain": [
              "0    1\n",
              "1    1\n",
              "2    1\n",
              "3    1\n",
              "4    1\n",
              "Name: cb_person_default_on_file, dtype: int64"
            ]
          },
          "execution_count": 29,
          "metadata": {},
          "output_type": "execute_result"
        }
      ],
      "source": [
        "cb_person_default_on_file_num={\n",
        "   'Y':0,\n",
        "    'N':1,\n",
        "\n",
        "\n",
        "}\n",
        "loanData['cb_person_default_on_file']=loanData['cb_person_default_on_file'].replace(cb_person_default_on_file_num)\n",
        "loanData['cb_person_default_on_file'].head()"
      ]
    },
    {
      "cell_type": "code",
      "execution_count": 30,
      "metadata": {
        "colab": {
          "base_uri": "https://localhost:8080/",
          "height": 226
        },
        "id": "MfrksfYppecZ",
        "outputId": "ca314db9-eba6-4177-bf01-4a8ff6a41d99"
      },
      "outputs": [
        {
          "data": {
            "text/html": [
              "<div>\n",
              "<style scoped>\n",
              "    .dataframe tbody tr th:only-of-type {\n",
              "        vertical-align: middle;\n",
              "    }\n",
              "\n",
              "    .dataframe tbody tr th {\n",
              "        vertical-align: top;\n",
              "    }\n",
              "\n",
              "    .dataframe thead th {\n",
              "        text-align: right;\n",
              "    }\n",
              "</style>\n",
              "<table border=\"1\" class=\"dataframe\">\n",
              "  <thead>\n",
              "    <tr style=\"text-align: right;\">\n",
              "      <th></th>\n",
              "      <th>id</th>\n",
              "      <th>person_age</th>\n",
              "      <th>person_income</th>\n",
              "      <th>person_home_ownership</th>\n",
              "      <th>person_emp_length</th>\n",
              "      <th>loan_intent</th>\n",
              "      <th>loan_grade</th>\n",
              "      <th>loan_amnt</th>\n",
              "      <th>loan_int_rate</th>\n",
              "      <th>loan_percent_income</th>\n",
              "      <th>cb_person_default_on_file</th>\n",
              "      <th>cb_person_cred_hist_length</th>\n",
              "      <th>loan_status</th>\n",
              "    </tr>\n",
              "  </thead>\n",
              "  <tbody>\n",
              "    <tr>\n",
              "      <th>0</th>\n",
              "      <td>0</td>\n",
              "      <td>37</td>\n",
              "      <td>35000</td>\n",
              "      <td>0</td>\n",
              "      <td>0.0</td>\n",
              "      <td>2</td>\n",
              "      <td>1</td>\n",
              "      <td>6000</td>\n",
              "      <td>11.49</td>\n",
              "      <td>0.17</td>\n",
              "      <td>1</td>\n",
              "      <td>14</td>\n",
              "      <td>0</td>\n",
              "    </tr>\n",
              "    <tr>\n",
              "      <th>1</th>\n",
              "      <td>1</td>\n",
              "      <td>22</td>\n",
              "      <td>56000</td>\n",
              "      <td>1</td>\n",
              "      <td>6.0</td>\n",
              "      <td>3</td>\n",
              "      <td>2</td>\n",
              "      <td>4000</td>\n",
              "      <td>13.35</td>\n",
              "      <td>0.07</td>\n",
              "      <td>1</td>\n",
              "      <td>2</td>\n",
              "      <td>0</td>\n",
              "    </tr>\n",
              "    <tr>\n",
              "      <th>2</th>\n",
              "      <td>2</td>\n",
              "      <td>29</td>\n",
              "      <td>28800</td>\n",
              "      <td>1</td>\n",
              "      <td>8.0</td>\n",
              "      <td>1</td>\n",
              "      <td>0</td>\n",
              "      <td>6000</td>\n",
              "      <td>8.90</td>\n",
              "      <td>0.21</td>\n",
              "      <td>1</td>\n",
              "      <td>10</td>\n",
              "      <td>0</td>\n",
              "    </tr>\n",
              "    <tr>\n",
              "      <th>3</th>\n",
              "      <td>3</td>\n",
              "      <td>30</td>\n",
              "      <td>70000</td>\n",
              "      <td>0</td>\n",
              "      <td>14.0</td>\n",
              "      <td>4</td>\n",
              "      <td>1</td>\n",
              "      <td>12000</td>\n",
              "      <td>11.11</td>\n",
              "      <td>0.17</td>\n",
              "      <td>1</td>\n",
              "      <td>5</td>\n",
              "      <td>0</td>\n",
              "    </tr>\n",
              "    <tr>\n",
              "      <th>4</th>\n",
              "      <td>4</td>\n",
              "      <td>22</td>\n",
              "      <td>60000</td>\n",
              "      <td>0</td>\n",
              "      <td>2.0</td>\n",
              "      <td>3</td>\n",
              "      <td>0</td>\n",
              "      <td>6000</td>\n",
              "      <td>6.92</td>\n",
              "      <td>0.10</td>\n",
              "      <td>1</td>\n",
              "      <td>3</td>\n",
              "      <td>0</td>\n",
              "    </tr>\n",
              "  </tbody>\n",
              "</table>\n",
              "</div>"
            ],
            "text/plain": [
              "   id  person_age  person_income  person_home_ownership  person_emp_length  \\\n",
              "0   0          37          35000                      0                0.0   \n",
              "1   1          22          56000                      1                6.0   \n",
              "2   2          29          28800                      1                8.0   \n",
              "3   3          30          70000                      0               14.0   \n",
              "4   4          22          60000                      0                2.0   \n",
              "\n",
              "   loan_intent  loan_grade  loan_amnt  loan_int_rate  loan_percent_income  \\\n",
              "0            2           1       6000          11.49                 0.17   \n",
              "1            3           2       4000          13.35                 0.07   \n",
              "2            1           0       6000           8.90                 0.21   \n",
              "3            4           1      12000          11.11                 0.17   \n",
              "4            3           0       6000           6.92                 0.10   \n",
              "\n",
              "   cb_person_default_on_file  cb_person_cred_hist_length  loan_status  \n",
              "0                          1                          14            0  \n",
              "1                          1                           2            0  \n",
              "2                          1                          10            0  \n",
              "3                          1                           5            0  \n",
              "4                          1                           3            0  "
            ]
          },
          "execution_count": 30,
          "metadata": {},
          "output_type": "execute_result"
        }
      ],
      "source": [
        "# loanData=loanData.drop(columns='id',axis=1)\n",
        "loanData.head()\n"
      ]
    },
    {
      "cell_type": "code",
      "execution_count": 31,
      "metadata": {
        "colab": {
          "base_uri": "https://localhost:8080/"
        },
        "id": "12rxYnIvihs-",
        "outputId": "9a30cb80-dd20-4238-9a89-994238cc62fa"
      },
      "outputs": [
        {
          "name": "stdout",
          "output_type": "stream",
          "text": [
            "                       id  person_age  person_income  person_home_ownership  \\\n",
            "loan_status                                                                   \n",
            "0            29378.138682   27.553634   66672.867720               0.994115   \n",
            "1            28983.856886   27.534132   48224.661796               0.365749   \n",
            "\n",
            "             person_emp_length  loan_intent  loan_grade     loan_amnt  \\\n",
            "loan_status                                                             \n",
            "0                     4.863048     2.382185    0.902137   8888.883229   \n",
            "1                     3.725030     2.274491    2.057485  11197.271856   \n",
            "\n",
            "             loan_int_rate  loan_percent_income  cb_person_default_on_file  \\\n",
            "loan_status                                                                  \n",
            "0                10.258767             0.145105                   0.878696   \n",
            "1                13.202305             0.244363                   0.688503   \n",
            "\n",
            "             cb_person_cred_hist_length  \n",
            "loan_status                              \n",
            "0                              5.818531  \n",
            "1                              5.783593  \n"
          ]
        }
      ],
      "source": [
        "print(loanData.groupby('loan_status').mean())"
      ]
    },
    {
      "cell_type": "code",
      "execution_count": 32,
      "metadata": {
        "id": "GRzcdPOGkiRm"
      },
      "outputs": [],
      "source": [
        "X=loanData.drop(columns='loan_status',axis=1)\n",
        "Y=loanData['loan_status']"
      ]
    },
    {
      "cell_type": "code",
      "execution_count": 33,
      "metadata": {
        "id": "ZAFK8ibHp67O"
      },
      "outputs": [],
      "source": [
        "loanData_test=pd.read_csv(r\"D:\\target\\ml\\loanPrediction\\playground-series-s4e10\\test.csv\")"
      ]
    },
    {
      "cell_type": "code",
      "execution_count": 34,
      "metadata": {
        "colab": {
          "base_uri": "https://localhost:8080/"
        },
        "id": "QQewc1nIrLTP",
        "outputId": "0e32ad6f-8278-4b21-ea1c-52a9a8aabc45"
      },
      "outputs": [
        {
          "data": {
            "text/plain": [
              "(39098, 12)"
            ]
          },
          "execution_count": 34,
          "metadata": {},
          "output_type": "execute_result"
        }
      ],
      "source": [
        "loanData_test.shape"
      ]
    },
    {
      "cell_type": "code",
      "execution_count": 35,
      "metadata": {
        "colab": {
          "base_uri": "https://localhost:8080/",
          "height": 226
        },
        "id": "h3vJKD1hqUdH",
        "outputId": "b55f7742-99ff-48df-cb3f-86183d2a23d2"
      },
      "outputs": [
        {
          "data": {
            "text/html": [
              "<div>\n",
              "<style scoped>\n",
              "    .dataframe tbody tr th:only-of-type {\n",
              "        vertical-align: middle;\n",
              "    }\n",
              "\n",
              "    .dataframe tbody tr th {\n",
              "        vertical-align: top;\n",
              "    }\n",
              "\n",
              "    .dataframe thead th {\n",
              "        text-align: right;\n",
              "    }\n",
              "</style>\n",
              "<table border=\"1\" class=\"dataframe\">\n",
              "  <thead>\n",
              "    <tr style=\"text-align: right;\">\n",
              "      <th></th>\n",
              "      <th>id</th>\n",
              "      <th>person_age</th>\n",
              "      <th>person_income</th>\n",
              "      <th>person_home_ownership</th>\n",
              "      <th>person_emp_length</th>\n",
              "      <th>loan_intent</th>\n",
              "      <th>loan_grade</th>\n",
              "      <th>loan_amnt</th>\n",
              "      <th>loan_int_rate</th>\n",
              "      <th>loan_percent_income</th>\n",
              "      <th>cb_person_default_on_file</th>\n",
              "      <th>cb_person_cred_hist_length</th>\n",
              "    </tr>\n",
              "  </thead>\n",
              "  <tbody>\n",
              "    <tr>\n",
              "      <th>0</th>\n",
              "      <td>58645</td>\n",
              "      <td>23</td>\n",
              "      <td>69000</td>\n",
              "      <td>RENT</td>\n",
              "      <td>3.0</td>\n",
              "      <td>HOMEIMPROVEMENT</td>\n",
              "      <td>F</td>\n",
              "      <td>25000</td>\n",
              "      <td>15.76</td>\n",
              "      <td>0.36</td>\n",
              "      <td>N</td>\n",
              "      <td>2</td>\n",
              "    </tr>\n",
              "    <tr>\n",
              "      <th>1</th>\n",
              "      <td>58646</td>\n",
              "      <td>26</td>\n",
              "      <td>96000</td>\n",
              "      <td>MORTGAGE</td>\n",
              "      <td>6.0</td>\n",
              "      <td>PERSONAL</td>\n",
              "      <td>C</td>\n",
              "      <td>10000</td>\n",
              "      <td>12.68</td>\n",
              "      <td>0.10</td>\n",
              "      <td>Y</td>\n",
              "      <td>4</td>\n",
              "    </tr>\n",
              "    <tr>\n",
              "      <th>2</th>\n",
              "      <td>58647</td>\n",
              "      <td>26</td>\n",
              "      <td>30000</td>\n",
              "      <td>RENT</td>\n",
              "      <td>5.0</td>\n",
              "      <td>VENTURE</td>\n",
              "      <td>E</td>\n",
              "      <td>4000</td>\n",
              "      <td>17.19</td>\n",
              "      <td>0.13</td>\n",
              "      <td>Y</td>\n",
              "      <td>2</td>\n",
              "    </tr>\n",
              "    <tr>\n",
              "      <th>3</th>\n",
              "      <td>58648</td>\n",
              "      <td>33</td>\n",
              "      <td>50000</td>\n",
              "      <td>RENT</td>\n",
              "      <td>4.0</td>\n",
              "      <td>DEBTCONSOLIDATION</td>\n",
              "      <td>A</td>\n",
              "      <td>7000</td>\n",
              "      <td>8.90</td>\n",
              "      <td>0.14</td>\n",
              "      <td>N</td>\n",
              "      <td>7</td>\n",
              "    </tr>\n",
              "    <tr>\n",
              "      <th>4</th>\n",
              "      <td>58649</td>\n",
              "      <td>26</td>\n",
              "      <td>102000</td>\n",
              "      <td>MORTGAGE</td>\n",
              "      <td>8.0</td>\n",
              "      <td>HOMEIMPROVEMENT</td>\n",
              "      <td>D</td>\n",
              "      <td>15000</td>\n",
              "      <td>16.32</td>\n",
              "      <td>0.15</td>\n",
              "      <td>Y</td>\n",
              "      <td>4</td>\n",
              "    </tr>\n",
              "  </tbody>\n",
              "</table>\n",
              "</div>"
            ],
            "text/plain": [
              "      id  person_age  person_income person_home_ownership  person_emp_length  \\\n",
              "0  58645          23          69000                  RENT                3.0   \n",
              "1  58646          26          96000              MORTGAGE                6.0   \n",
              "2  58647          26          30000                  RENT                5.0   \n",
              "3  58648          33          50000                  RENT                4.0   \n",
              "4  58649          26         102000              MORTGAGE                8.0   \n",
              "\n",
              "         loan_intent loan_grade  loan_amnt  loan_int_rate  \\\n",
              "0    HOMEIMPROVEMENT          F      25000          15.76   \n",
              "1           PERSONAL          C      10000          12.68   \n",
              "2            VENTURE          E       4000          17.19   \n",
              "3  DEBTCONSOLIDATION          A       7000           8.90   \n",
              "4    HOMEIMPROVEMENT          D      15000          16.32   \n",
              "\n",
              "   loan_percent_income cb_person_default_on_file  cb_person_cred_hist_length  \n",
              "0                 0.36                         N                           2  \n",
              "1                 0.10                         Y                           4  \n",
              "2                 0.13                         Y                           2  \n",
              "3                 0.14                         N                           7  \n",
              "4                 0.15                         Y                           4  "
            ]
          },
          "execution_count": 35,
          "metadata": {},
          "output_type": "execute_result"
        }
      ],
      "source": [
        "loanData_test.head()"
      ]
    },
    {
      "cell_type": "code",
      "execution_count": 36,
      "metadata": {
        "colab": {
          "base_uri": "https://localhost:8080/",
          "height": 295
        },
        "id": "7GuBxFMSqXAh",
        "outputId": "883c0aea-6266-4e81-cfde-50c9604e05e6"
      },
      "outputs": [
        {
          "name": "stderr",
          "output_type": "stream",
          "text": [
            "C:\\Users\\Asus\\AppData\\Local\\Temp\\ipykernel_12484\\2816805583.py:7: FutureWarning: Downcasting behavior in `replace` is deprecated and will be removed in a future version. To retain the old behavior, explicitly call `result.infer_objects(copy=False)`. To opt-in to the future behavior, set `pd.set_option('future.no_silent_downcasting', True)`\n",
            "  loanData_test['person_home_ownership']=loanData_test['person_home_ownership'].replace(house_num)\n",
            "C:\\Users\\Asus\\AppData\\Local\\Temp\\ipykernel_12484\\2816805583.py:14: FutureWarning: Downcasting behavior in `replace` is deprecated and will be removed in a future version. To retain the old behavior, explicitly call `result.infer_objects(copy=False)`. To opt-in to the future behavior, set `pd.set_option('future.no_silent_downcasting', True)`\n",
            "  loanData_test['cb_person_default_on_file']=loanData_test['cb_person_default_on_file'].replace(cb_person_default_on_file_num)\n",
            "C:\\Users\\Asus\\AppData\\Local\\Temp\\ipykernel_12484\\2816805583.py:26: FutureWarning: Downcasting behavior in `replace` is deprecated and will be removed in a future version. To retain the old behavior, explicitly call `result.infer_objects(copy=False)`. To opt-in to the future behavior, set `pd.set_option('future.no_silent_downcasting', True)`\n",
            "  loanData_test['loan_grade']=loanData_test['loan_grade'].replace(loan_grade_num)\n",
            "C:\\Users\\Asus\\AppData\\Local\\Temp\\ipykernel_12484\\2816805583.py:36: FutureWarning: Downcasting behavior in `replace` is deprecated and will be removed in a future version. To retain the old behavior, explicitly call `result.infer_objects(copy=False)`. To opt-in to the future behavior, set `pd.set_option('future.no_silent_downcasting', True)`\n",
            "  loanData_test['loan_intent']=loanData_test['loan_intent'].replace(loan_intent_num)\n"
          ]
        },
        {
          "data": {
            "text/html": [
              "<div>\n",
              "<style scoped>\n",
              "    .dataframe tbody tr th:only-of-type {\n",
              "        vertical-align: middle;\n",
              "    }\n",
              "\n",
              "    .dataframe tbody tr th {\n",
              "        vertical-align: top;\n",
              "    }\n",
              "\n",
              "    .dataframe thead th {\n",
              "        text-align: right;\n",
              "    }\n",
              "</style>\n",
              "<table border=\"1\" class=\"dataframe\">\n",
              "  <thead>\n",
              "    <tr style=\"text-align: right;\">\n",
              "      <th></th>\n",
              "      <th>id</th>\n",
              "      <th>person_age</th>\n",
              "      <th>person_income</th>\n",
              "      <th>person_home_ownership</th>\n",
              "      <th>person_emp_length</th>\n",
              "      <th>loan_intent</th>\n",
              "      <th>loan_grade</th>\n",
              "      <th>loan_amnt</th>\n",
              "      <th>loan_int_rate</th>\n",
              "      <th>loan_percent_income</th>\n",
              "      <th>cb_person_default_on_file</th>\n",
              "      <th>cb_person_cred_hist_length</th>\n",
              "    </tr>\n",
              "  </thead>\n",
              "  <tbody>\n",
              "    <tr>\n",
              "      <th>0</th>\n",
              "      <td>58645</td>\n",
              "      <td>23</td>\n",
              "      <td>69000</td>\n",
              "      <td>0</td>\n",
              "      <td>3.0</td>\n",
              "      <td>5</td>\n",
              "      <td>5</td>\n",
              "      <td>25000</td>\n",
              "      <td>15.76</td>\n",
              "      <td>0.36</td>\n",
              "      <td>1</td>\n",
              "      <td>2</td>\n",
              "    </tr>\n",
              "    <tr>\n",
              "      <th>1</th>\n",
              "      <td>58646</td>\n",
              "      <td>26</td>\n",
              "      <td>96000</td>\n",
              "      <td>2</td>\n",
              "      <td>6.0</td>\n",
              "      <td>1</td>\n",
              "      <td>2</td>\n",
              "      <td>10000</td>\n",
              "      <td>12.68</td>\n",
              "      <td>0.10</td>\n",
              "      <td>0</td>\n",
              "      <td>4</td>\n",
              "    </tr>\n",
              "    <tr>\n",
              "      <th>2</th>\n",
              "      <td>58647</td>\n",
              "      <td>26</td>\n",
              "      <td>30000</td>\n",
              "      <td>0</td>\n",
              "      <td>5.0</td>\n",
              "      <td>4</td>\n",
              "      <td>4</td>\n",
              "      <td>4000</td>\n",
              "      <td>17.19</td>\n",
              "      <td>0.13</td>\n",
              "      <td>0</td>\n",
              "      <td>2</td>\n",
              "    </tr>\n",
              "    <tr>\n",
              "      <th>3</th>\n",
              "      <td>58648</td>\n",
              "      <td>33</td>\n",
              "      <td>50000</td>\n",
              "      <td>0</td>\n",
              "      <td>4.0</td>\n",
              "      <td>0</td>\n",
              "      <td>0</td>\n",
              "      <td>7000</td>\n",
              "      <td>8.90</td>\n",
              "      <td>0.14</td>\n",
              "      <td>1</td>\n",
              "      <td>7</td>\n",
              "    </tr>\n",
              "    <tr>\n",
              "      <th>4</th>\n",
              "      <td>58649</td>\n",
              "      <td>26</td>\n",
              "      <td>102000</td>\n",
              "      <td>2</td>\n",
              "      <td>8.0</td>\n",
              "      <td>5</td>\n",
              "      <td>3</td>\n",
              "      <td>15000</td>\n",
              "      <td>16.32</td>\n",
              "      <td>0.15</td>\n",
              "      <td>0</td>\n",
              "      <td>4</td>\n",
              "    </tr>\n",
              "  </tbody>\n",
              "</table>\n",
              "</div>"
            ],
            "text/plain": [
              "      id  person_age  person_income  person_home_ownership  person_emp_length  \\\n",
              "0  58645          23          69000                      0                3.0   \n",
              "1  58646          26          96000                      2                6.0   \n",
              "2  58647          26          30000                      0                5.0   \n",
              "3  58648          33          50000                      0                4.0   \n",
              "4  58649          26         102000                      2                8.0   \n",
              "\n",
              "   loan_intent  loan_grade  loan_amnt  loan_int_rate  loan_percent_income  \\\n",
              "0            5           5      25000          15.76                 0.36   \n",
              "1            1           2      10000          12.68                 0.10   \n",
              "2            4           4       4000          17.19                 0.13   \n",
              "3            0           0       7000           8.90                 0.14   \n",
              "4            5           3      15000          16.32                 0.15   \n",
              "\n",
              "   cb_person_default_on_file  cb_person_cred_hist_length  \n",
              "0                          1                           2  \n",
              "1                          0                           4  \n",
              "2                          0                           2  \n",
              "3                          1                           7  \n",
              "4                          0                           4  "
            ]
          },
          "execution_count": 36,
          "metadata": {},
          "output_type": "execute_result"
        }
      ],
      "source": [
        "house_num={\n",
        "    'RENT':0,\n",
        "    'OWN':1,\n",
        "    'MORTGAGE':2,\n",
        "    'OTHER':3\n",
        "}\n",
        "loanData_test['person_home_ownership']=loanData_test['person_home_ownership'].replace(house_num)\n",
        "cb_person_default_on_file_num={\n",
        "   'Y':0,\n",
        "    'N':1,\n",
        "\n",
        "\n",
        "}\n",
        "loanData_test['cb_person_default_on_file']=loanData_test['cb_person_default_on_file'].replace(cb_person_default_on_file_num)\n",
        "loan_grade_num={\n",
        "    'A':0,\n",
        "    'B':1,\n",
        "    'C':2,\n",
        "    'D':3,\n",
        "    'E':4,\n",
        "    'F':5,\n",
        "    'G':6,\n",
        "\n",
        "\n",
        "}\n",
        "loanData_test['loan_grade']=loanData_test['loan_grade'].replace(loan_grade_num)\n",
        "loan_intent_num={\n",
        "    'DEBTCONSOLIDATION':0,\n",
        "    'PERSONAL':1,\n",
        "    'EDUCATION':2,\n",
        "    'MEDICAL':3,\n",
        "    'VENTURE':4,\n",
        "    'HOMEIMPROVEMENT':5,\n",
        "\n",
        "}\n",
        "loanData_test['loan_intent']=loanData_test['loan_intent'].replace(loan_intent_num)\n",
        "\n",
        "loanData_test.head()"
      ]
    },
    {
      "cell_type": "code",
      "execution_count": 37,
      "metadata": {
        "colab": {
          "base_uri": "https://localhost:8080/"
        },
        "id": "QM52-3gjr-jB",
        "outputId": "49117bd5-dd3e-4e21-92c6-6853d3611dd9"
      },
      "outputs": [
        {
          "data": {
            "text/plain": [
              "(39098, 12)"
            ]
          },
          "execution_count": 37,
          "metadata": {},
          "output_type": "execute_result"
        }
      ],
      "source": [
        "loanData_test.shape"
      ]
    },
    {
      "cell_type": "code",
      "execution_count": 38,
      "metadata": {
        "id": "w39V8boKqrKu"
      },
      "outputs": [
        {
          "name": "stdout",
          "output_type": "stream",
          "text": [
            "[LightGBM] [Info] Number of positive: 8350, number of negative: 50295"
          ]
        },
        {
          "name": "stderr",
          "output_type": "stream",
          "text": [
            "C:\\Users\\Asus\\AppData\\Local\\Packages\\PythonSoftwareFoundation.Python.3.12_qbz5n2kfra8p0\\LocalCache\\local-packages\\Python312\\site-packages\\lightgbm\\callback.py:341: UserWarning: Only training set found, disabling early stopping.\n",
            "  _log_warning(\"Only training set found, disabling early stopping.\")\n"
          ]
        },
        {
          "name": "stdout",
          "output_type": "stream",
          "text": [
            "\n",
            "[LightGBM] [Info] Auto-choosing row-wise multi-threading, the overhead of testing was 0.000797 seconds.\n",
            "You can set `force_row_wise=true` to remove the overhead.\n",
            "And if memory is not enough, you can set `force_col_wise=true`.\n",
            "[LightGBM] [Info] Total Bins 1098\n",
            "[LightGBM] [Info] Number of data points in the train set: 58645, number of used features: 12\n",
            "[LightGBM] [Info] [binary:BoostFromScore]: pavg=0.142382 -> initscore=-1.795644\n",
            "[LightGBM] [Info] Start training from score -1.795644\n"
          ]
        }
      ],
      "source": [
        "import pandas as pd\n",
        "import lightgbm as lgb\n",
        "\n",
        "# Create LightGBM datasets\n",
        "train_data = lgb.Dataset(X, Y)\n",
        "\n",
        "# Set LightGBM parameters\n",
        "params = {\n",
        "    'objective': 'binary',\n",
        "    'boosting_type': 'gbdt',\n",
        "    'metric': 'binary_error',  # Binary classification\n",
        "    'num_leaves': 31,          # Controls the complexity of the model\n",
        "    'learning_rate': 0.05,     # Lower learning rate for better accuracy\n",
        "    'feature_fraction': 0.8     # Use a subset of features for each iteration\n",
        "}\n",
        "\n",
        "# Train the model with early stopping using callbacks\n",
        "lgb_model = lgb.train(\n",
        "    params,\n",
        "    train_data,\n",
        "    num_boost_round=1000,\n",
        "    valid_sets=[train_data],\n",
        "    valid_names=['train'],  # Added to specify the name of the training set\n",
        "    callbacks=[lgb.early_stopping(stopping_rounds=100)]  # Use callbacks for early stopping\n",
        ")\n",
        "\n",
        "# Predict on the test set\n",
        "y_pred = lgb_model.predict(loanData_test, num_iteration=lgb_model.best_iteration)\n",
        "y_pred_binary = [1 if x > 0.5 else 0 for x in y_pred]\n",
        "\n",
        "# Create a DataFrame with the test 'id' and predicted 'loan_status'\n",
        "submission_df = pd.DataFrame({\n",
        "    'id': loanData_test['id'],\n",
        "    'loan_status': y_pred_binary\n",
        "})\n",
        "\n",
        "# Save predictions to a CSV file\n",
        "submission_df.to_csv('predicted_loan_status_Using_LightGBM.csv', index=False)\n",
        "\n",
        "\n",
        "\n",
        "\n",
        "\n",
        "\n"
      ]
    },
    {
      "cell_type": "code",
      "execution_count": null,
      "metadata": {},
      "outputs": [],
      "source": []
    }
  ],
  "metadata": {
    "colab": {
      "provenance": []
    },
    "kernelspec": {
      "display_name": "Python 3",
      "language": "python",
      "name": "python3"
    },
    "language_info": {
      "codemirror_mode": {
        "name": "ipython",
        "version": 3
      },
      "file_extension": ".py",
      "mimetype": "text/x-python",
      "name": "python",
      "nbconvert_exporter": "python",
      "pygments_lexer": "ipython3",
      "version": "3.12.7"
    }
  },
  "nbformat": 4,
  "nbformat_minor": 0
}
